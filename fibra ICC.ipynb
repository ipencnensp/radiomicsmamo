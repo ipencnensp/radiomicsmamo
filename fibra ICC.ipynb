{
 "cells": [
  {
   "cell_type": "code",
   "execution_count": 1,
   "id": "67e452c2-0efd-42b1-8a83-6d897d7820bb",
   "metadata": {},
   "outputs": [],
   "source": [
    "import pingouin as pg\n",
    "import pandas as pd"
   ]
  },
  {
   "cell_type": "code",
   "execution_count": 2,
   "id": "f9d3aea6-76ce-40ca-95ed-1ba2c2227d66",
   "metadata": {},
   "outputs": [],
   "source": [
    "import numpy as np"
   ]
  },
  {
   "cell_type": "code",
   "execution_count": 3,
   "id": "440d7733-9e76-4358-9c2c-372021e99e34",
   "metadata": {},
   "outputs": [
    {
     "data": {
      "text/html": [
       "<div>\n",
       "<style scoped>\n",
       "    .dataframe tbody tr th:only-of-type {\n",
       "        vertical-align: middle;\n",
       "    }\n",
       "\n",
       "    .dataframe tbody tr th {\n",
       "        vertical-align: top;\n",
       "    }\n",
       "\n",
       "    .dataframe thead th {\n",
       "        text-align: right;\n",
       "    }\n",
       "</style>\n",
       "<table border=\"1\" class=\"dataframe\">\n",
       "  <thead>\n",
       "    <tr style=\"text-align: right;\">\n",
       "      <th></th>\n",
       "      <th>caracteristica</th>\n",
       "      <th>equipamento</th>\n",
       "      <th>valor</th>\n",
       "    </tr>\n",
       "  </thead>\n",
       "  <tbody>\n",
       "    <tr>\n",
       "      <th>0</th>\n",
       "      <td>firstorder_10Percentile</td>\n",
       "      <td>1º ensaio_DBT_fibra</td>\n",
       "      <td>2286.00</td>\n",
       "    </tr>\n",
       "    <tr>\n",
       "      <th>1</th>\n",
       "      <td>firstorder_10Percentile</td>\n",
       "      <td>2º ensaio_DBT_fibra</td>\n",
       "      <td>2302.00</td>\n",
       "    </tr>\n",
       "    <tr>\n",
       "      <th>2</th>\n",
       "      <td>firstorder_10Percentile</td>\n",
       "      <td>1º ensaio_PC1_fibra</td>\n",
       "      <td>2233.60</td>\n",
       "    </tr>\n",
       "    <tr>\n",
       "      <th>3</th>\n",
       "      <td>firstorder_10Percentile</td>\n",
       "      <td>2º ensaio_PC1_fibra</td>\n",
       "      <td>2242.35</td>\n",
       "    </tr>\n",
       "    <tr>\n",
       "      <th>4</th>\n",
       "      <td>firstorder_10Percentile</td>\n",
       "      <td>1º ensaio_PC2_fibra</td>\n",
       "      <td>2247.00</td>\n",
       "    </tr>\n",
       "  </tbody>\n",
       "</table>\n",
       "</div>"
      ],
      "text/plain": [
       "            caracteristica          equipamento    valor\n",
       "0  firstorder_10Percentile  1º ensaio_DBT_fibra  2286.00\n",
       "1  firstorder_10Percentile  2º ensaio_DBT_fibra  2302.00\n",
       "2  firstorder_10Percentile  1º ensaio_PC1_fibra  2233.60\n",
       "3  firstorder_10Percentile  2º ensaio_PC1_fibra  2242.35\n",
       "4  firstorder_10Percentile  1º ensaio_PC2_fibra  2247.00"
      ]
     },
     "execution_count": 3,
     "metadata": {},
     "output_type": "execute_result"
    }
   ],
   "source": [
    "fibra = pd.read_excel(r'C:\\Users\\erica\\OneDrive\\MPTRCS\\planilhas_quarta analise_BOAS\\fibra ICC_2.xlsx')\n",
    "fibra.head()\n"
   ]
  },
  {
   "cell_type": "code",
   "execution_count": 4,
   "id": "4b701a19-0441-44f2-a642-ff48e6be9f2b",
   "metadata": {},
   "outputs": [
    {
     "name": "stdout",
     "output_type": "stream",
     "text": [
      "equipamento                                   1º ensaio_DBT_fibra  \\\n",
      "      caracteristica                                                \n",
      "valor firstorder_10Percentile                        2.286000e+03   \n",
      "      firstorder_90Percentile                        2.346000e+03   \n",
      "      firstorder_Energy                              2.523424e+10   \n",
      "      firstorder_Kurtosis                            3.020177e+00   \n",
      "      firstorder_Maximum                             2.409000e+03   \n",
      "      firstorder_Mean                                2.316049e+03   \n",
      "      firstorder_Median                              2.315000e+03   \n",
      "      firstorder_Minimum                             2.235600e+03   \n",
      "      firstorder_RootMeanSquared                     2.316174e+03   \n",
      "      firstorder_TotalEnergy                         2.523424e+08   \n",
      "      glcm_Idmn                                      9.791312e-01   \n",
      "      glcm_Idn                                       9.068674e-01   \n",
      "      glcm_SumEntropy                                2.733769e+00   \n",
      "      gldm_DependenceEntropy                         4.604411e+00   \n",
      "      glrlm_GrayLevelNonUniformity                   8.042178e+02   \n",
      "      glrlm_RunEntropy                               3.489846e+00   \n",
      "      glrlm_RunLengthNonUniformityNormalized         5.173491e-01   \n",
      "      glrlm_RunPercentage                            6.662894e-01   \n",
      "      glrlm_ShortRunEmphasis                         7.465943e-01   \n",
      "      glszm_SizeZoneNonUniformityNormalized          3.424297e-01   \n",
      "      glszm_SmallAreaEmphasis                        6.076612e-01   \n",
      "      glszm_ZoneEntropy                              4.826871e+00   \n",
      "      ngtdm_Coarseness                               1.322426e-03   \n",
      "\n",
      "equipamento                                   1º ensaio_PC1_fibra  \\\n",
      "      caracteristica                                                \n",
      "valor firstorder_10Percentile                        2.233600e+03   \n",
      "      firstorder_90Percentile                        2.368400e+03   \n",
      "      firstorder_Energy                              2.987070e+10   \n",
      "      firstorder_Kurtosis                            2.649508e+00   \n",
      "      firstorder_Maximum                             2.477600e+03   \n",
      "      firstorder_Mean                                2.303823e+03   \n",
      "      firstorder_Median                              2.306800e+03   \n",
      "      firstorder_Minimum                             2.133400e+03   \n",
      "      firstorder_RootMeanSquared                     2.304418e+03   \n",
      "      firstorder_TotalEnergy                         2.987070e+08   \n",
      "      glcm_Idmn                                      9.682288e-01   \n",
      "      glcm_Idn                                       8.792726e-01   \n",
      "      glcm_SumEntropy                                3.736306e+00   \n",
      "      gldm_DependenceEntropy                         5.008632e+00   \n",
      "      glrlm_GrayLevelNonUniformity                   7.461713e+02   \n",
      "      glrlm_RunEntropy                               3.817111e+00   \n",
      "      glrlm_RunLengthNonUniformityNormalized         7.534341e-01   \n",
      "      glrlm_RunPercentage                            8.571111e-01   \n",
      "      glrlm_ShortRunEmphasis                         8.914533e-01   \n",
      "      glszm_SizeZoneNonUniformityNormalized          4.294218e-01   \n",
      "      glszm_SmallAreaEmphasis                        6.803451e-01   \n",
      "      glszm_ZoneEntropy                              5.019202e+00   \n",
      "      ngtdm_Coarseness                               9.826448e-04   \n",
      "\n",
      "equipamento                                   1º ensaio_PC2_fibra  \\\n",
      "      caracteristica                                                \n",
      "valor firstorder_10Percentile                        2.247000e+03   \n",
      "      firstorder_90Percentile                        2.374400e+03   \n",
      "      firstorder_Energy                              2.376400e+10   \n",
      "      firstorder_Kurtosis                            2.733361e+00   \n",
      "      firstorder_Maximum                             2.492000e+03   \n",
      "      firstorder_Mean                                2.310983e+03   \n",
      "      firstorder_Median                              2.311200e+03   \n",
      "      firstorder_Minimum                             2.158200e+03   \n",
      "      firstorder_RootMeanSquared                     2.311505e+03   \n",
      "      firstorder_TotalEnergy                         2.376400e+08   \n",
      "      glcm_Idmn                                      9.713680e-01   \n",
      "      glcm_Idn                                       8.850547e-01   \n",
      "      glcm_SumEntropy                                3.648995e+00   \n",
      "      gldm_DependenceEntropy                         4.977300e+00   \n",
      "      glrlm_GrayLevelNonUniformity                   6.249682e+02   \n",
      "      glrlm_RunEntropy                               3.774132e+00   \n",
      "      glrlm_RunLengthNonUniformityNormalized         7.381033e-01   \n",
      "      glrlm_RunPercentage                            8.472051e-01   \n",
      "      glrlm_ShortRunEmphasis                         8.835036e-01   \n",
      "      glszm_SizeZoneNonUniformityNormalized          4.115952e-01   \n",
      "      glszm_SmallAreaEmphasis                        6.662819e-01   \n",
      "      glszm_ZoneEntropy                              5.032274e+00   \n",
      "      ngtdm_Coarseness                               1.288123e-03   \n",
      "\n",
      "equipamento                                   2º ensaio_DBT_fibra  \\\n",
      "      caracteristica                                                \n",
      "valor firstorder_10Percentile                        2.302000e+03   \n",
      "      firstorder_90Percentile                        2.361400e+03   \n",
      "      firstorder_Energy                              2.262975e+10   \n",
      "      firstorder_Kurtosis                            3.021159e+00   \n",
      "      firstorder_Maximum                             2.416800e+03   \n",
      "      firstorder_Mean                                2.330811e+03   \n",
      "      firstorder_Median                              2.329800e+03   \n",
      "      firstorder_Minimum                             2.250800e+03   \n",
      "      firstorder_RootMeanSquared                     2.330927e+03   \n",
      "      firstorder_TotalEnergy                         2.262975e+08   \n",
      "      glcm_Idmn                                      9.792159e-01   \n",
      "      glcm_Idn                                       9.071907e-01   \n",
      "      glcm_SumEntropy                                2.689299e+00   \n",
      "      gldm_DependenceEntropy                         4.559554e+00   \n",
      "      glrlm_GrayLevelNonUniformity                   7.204585e+02   \n",
      "      glrlm_RunEntropy                               3.462809e+00   \n",
      "      glrlm_RunLengthNonUniformityNormalized         5.159496e-01   \n",
      "      glrlm_RunPercentage                            6.613565e-01   \n",
      "      glrlm_ShortRunEmphasis                         7.457594e-01   \n",
      "      glszm_SizeZoneNonUniformityNormalized          3.802334e-01   \n",
      "      glszm_SmallAreaEmphasis                        6.398663e-01   \n",
      "      glszm_ZoneEntropy                              4.515134e+00   \n",
      "      ngtdm_Coarseness                               1.483429e-03   \n",
      "\n",
      "equipamento                                   2º ensaio_PC1_fibra  \\\n",
      "      caracteristica                                                \n",
      "valor firstorder_10Percentile                        2.242350e+03   \n",
      "      firstorder_90Percentile                        2.379250e+03   \n",
      "      firstorder_Energy                              3.004947e+10   \n",
      "      firstorder_Kurtosis                            2.775414e+00   \n",
      "      firstorder_Maximum                             2.509750e+03   \n",
      "      firstorder_Mean                                2.310690e+03   \n",
      "      firstorder_Median                              2.310000e+03   \n",
      "      firstorder_Minimum                             2.118000e+03   \n",
      "      firstorder_RootMeanSquared                     2.311299e+03   \n",
      "      firstorder_TotalEnergy                         3.004947e+08   \n",
      "      glcm_Idmn                                      9.745279e-01   \n",
      "      glcm_Idn                                       8.904357e-01   \n",
      "      glcm_SumEntropy                                3.735575e+00   \n",
      "      gldm_DependenceEntropy                         4.978861e+00   \n",
      "      glrlm_GrayLevelNonUniformity                   6.160325e+02   \n",
      "      glrlm_RunEntropy                               3.814103e+00   \n",
      "      glrlm_RunLengthNonUniformityNormalized         7.590973e-01   \n",
      "      glrlm_RunPercentage                            8.611889e-01   \n",
      "      glrlm_ShortRunEmphasis                         8.943051e-01   \n",
      "      glszm_SizeZoneNonUniformityNormalized          4.326765e-01   \n",
      "      glszm_SmallAreaEmphasis                        6.829048e-01   \n",
      "      glszm_ZoneEntropy                              5.005486e+00   \n",
      "      ngtdm_Coarseness                               9.970627e-04   \n",
      "\n",
      "equipamento                                   2º ensaio_PC2_fibra  \n",
      "      caracteristica                                               \n",
      "valor firstorder_10Percentile                        2.255600e+03  \n",
      "      firstorder_90Percentile                        2.394520e+03  \n",
      "      firstorder_Energy                              2.242749e+10  \n",
      "      firstorder_Kurtosis                            3.153862e+00  \n",
      "      firstorder_Maximum                             2.534800e+03  \n",
      "      firstorder_Mean                                2.319889e+03  \n",
      "      firstorder_Median                              2.314400e+03  \n",
      "      firstorder_Minimum                             2.187600e+03  \n",
      "      firstorder_RootMeanSquared                     2.320507e+03  \n",
      "      firstorder_TotalEnergy                         2.242749e+08  \n",
      "      glcm_Idmn                                      9.686461e-01  \n",
      "      glcm_Idn                                       8.803922e-01  \n",
      "      glcm_SumEntropy                                3.733265e+00  \n",
      "      gldm_DependenceEntropy                         4.939136e+00  \n",
      "      glrlm_GrayLevelNonUniformity                   4.627691e+02  \n",
      "      glrlm_RunEntropy                               3.812809e+00  \n",
      "      glrlm_RunLengthNonUniformityNormalized         7.602393e-01  \n",
      "      glrlm_RunPercentage                            8.617647e-01  \n",
      "      glrlm_ShortRunEmphasis                         8.949950e-01  \n",
      "      glszm_SizeZoneNonUniformityNormalized          4.395186e-01  \n",
      "      glszm_SmallAreaEmphasis                        6.888141e-01  \n",
      "      glszm_ZoneEntropy                              5.009560e+00  \n",
      "      ngtdm_Coarseness                               1.332407e-03  \n"
     ]
    }
   ],
   "source": [
    "print(pd.pivot_table(fibra, index='equipamento', columns='caracteristica').T)"
   ]
  },
  {
   "cell_type": "code",
   "execution_count": 10,
   "id": "52e2ded4-727f-4464-a4da-573ab5b4f2e6",
   "metadata": {},
   "outputs": [
    {
     "name": "stdout",
     "output_type": "stream",
     "text": [
      "    Type              Description       ICC           F  df1  df2          pval         CI95%\n",
      "0   ICC1   Single raters absolute  0.981916  326.779175   22  115  4.969179e-93  [0.97, 0.99]\n",
      "1   ICC2     Single random raters  0.981916  327.076487   22  110  9.192604e-90  [0.97, 0.99]\n",
      "2   ICC3      Single fixed raters  0.981932  327.076487   22  110  9.192604e-90  [0.97, 0.99]\n",
      "3  ICC1k  Average raters absolute  0.996940  326.779175   22  115  4.969179e-93   [0.99, 1.0]\n",
      "4  ICC2k    Average random raters  0.996940  327.076487   22  110  9.192604e-90   [0.99, 1.0]\n",
      "5  ICC3k     Average fixed raters  0.996943  327.076487   22  110  9.192604e-90   [0.99, 1.0]\n"
     ]
    }
   ],
   "source": [
    "results_fibra = pg.intraclass_corr(data=fibra, targets='caracteristica', raters='equipamento', ratings='valor')\n",
    "\n",
    "pd.set_option('display.max_columns', 8)\n",
    "pd.set_option('display.width', 200)\n",
    "\n",
    "print(results_fibra)\n",
    "df = pd.DataFrame.from_dict(results_fibra)\n",
    "df.to_excel(\"results_fibra.xlsx\", index=False)"
   ]
  },
  {
   "cell_type": "code",
   "execution_count": 8,
   "id": "c8f5bb40-fc20-4e77-bc24-c60895f7e87b",
   "metadata": {},
   "outputs": [
    {
     "name": "stdout",
     "output_type": "stream",
     "text": [
      "0.982\n"
     ]
    }
   ],
   "source": [
    "results_fibra = results_fibra.set_index('Description')\n",
    "icc = results_fibra.loc['Single random raters', 'ICC']\n",
    "\n",
    "print(icc.round(3))"
   ]
  },
  {
   "cell_type": "code",
   "execution_count": 9,
   "id": "0dfb5688-acd8-4bf3-95c8-52416f26305f",
   "metadata": {},
   "outputs": [
    {
     "name": "stdout",
     "output_type": "stream",
     "text": [
      "ICC = 0.982, 95% CI [0.97, 0.99]\n"
     ]
    }
   ],
   "source": [
    "lower_ci = results_fibra.loc['Single random raters', 'CI95%'][0]\n",
    "upper_ci = results_fibra.loc['Single random raters', 'CI95%'][1]\n",
    "\n",
    "print(f'ICC = {icc:.3f}, 95% CI [{lower_ci}, {upper_ci}]')"
   ]
  }
 ],
 "metadata": {
  "kernelspec": {
   "display_name": "Python 3 (ipykernel)",
   "language": "python",
   "name": "python3"
  },
  "language_info": {
   "codemirror_mode": {
    "name": "ipython",
    "version": 3
   },
   "file_extension": ".py",
   "mimetype": "text/x-python",
   "name": "python",
   "nbconvert_exporter": "python",
   "pygments_lexer": "ipython3",
   "version": "3.9.20"
  }
 },
 "nbformat": 4,
 "nbformat_minor": 5
}
